{
  "nbformat": 4,
  "nbformat_minor": 0,
  "metadata": {
    "colab": {
      "provenance": [],
      "authorship_tag": "ABX9TyMz7kzQLRL8jxnDeeda6avD"
    },
    "kernelspec": {
      "name": "python3",
      "display_name": "Python 3"
    },
    "language_info": {
      "name": "python"
    }
  },
  "cells": [
    {
      "cell_type": "code",
      "execution_count": 1,
      "metadata": {
        "id": "uGEoteVt66R_"
      },
      "outputs": [],
      "source": [
        "# importing the packages necesary\n",
        "\n",
        "import torch\n",
        "from torch import nn\n",
        "import pandas as pd\n",
        "import numpy as np"
      ]
    },
    {
      "cell_type": "markdown",
      "source": [
        "## Model 0 - Prelims, using torch to build linear regression model\n",
        "\n"
      ],
      "metadata": {
        "id": "IiA-TKW2LMVK"
      }
    },
    {
      "cell_type": "code",
      "source": [
        "# building the model using torch\n",
        "\n",
        "class LinearRegressionModel(nn.Module):\n",
        "    def __init__(self, input_dim, output_dim):\n",
        "        super().__init__()\n",
        "        # linear function\n",
        "        self.model = nn.Linear(input_dim, output_dim)\n",
        "\n",
        "\n",
        "    def forward(self, X):\n",
        "        out = self.model(X)\n",
        "        return out"
      ],
      "metadata": {
        "id": "V_367tD47ytx"
      },
      "execution_count": 20,
      "outputs": []
    },
    {
      "cell_type": "code",
      "source": [
        "model = LinearRegressionModel(input_dim = 1,  output_dim = 1)"
      ],
      "metadata": {
        "id": "9odQXOCK-i8j"
      },
      "execution_count": 21,
      "outputs": []
    },
    {
      "cell_type": "code",
      "source": [
        "# setting the parameters\n",
        "loss_fn = nn.MSELoss()\n",
        "optimizer = torch.optim.SGD(model.parameters(), lr=0.1)"
      ],
      "metadata": {
        "id": "NSKwy0pODc-H"
      },
      "execution_count": 22,
      "outputs": []
    },
    {
      "cell_type": "markdown",
      "source": [
        "### example of a formula it's trying to learn\n",
        "\n",
        "$$\n",
        "y = f(x;\\theta)\n",
        "$$\n",
        "\n",
        "where $f(.)$ is $3.4x_1 + 2.5$\n"
      ],
      "metadata": {
        "id": "Nmlucqxa-mRY"
      }
    },
    {
      "cell_type": "code",
      "source": [
        "x = torch.rand(1000,1)\n",
        "y = x * 3.4 + 2.5\n",
        "\n",
        "data = torch.cat((x,y), 1)"
      ],
      "metadata": {
        "id": "94M1ojDk-khx"
      },
      "execution_count": 23,
      "outputs": []
    },
    {
      "cell_type": "code",
      "source": [
        "# prepare the dataset\n",
        "\n",
        "batch_size = 10\n",
        "n_epochs = 100\n",
        "\n",
        "train_loader = torch.utils.data.DataLoader(dataset = data,\n",
        "                                           batch_size = 10,\n",
        "                                           shuffle = True)"
      ],
      "metadata": {
        "id": "OuptJtrZEhtq"
      },
      "execution_count": 24,
      "outputs": []
    },
    {
      "cell_type": "code",
      "source": [
        "for epochs in range(n_epochs):\n",
        "    for i, _data in enumerate(train_loader):\n",
        "\n",
        "        _x = _data.T[0].reshape(-1, 1)\n",
        "        _y = _data.T[-1].reshape(-1, 1)\n",
        "\n",
        "        # zero the gradients\n",
        "        optimizer.zero_grad()\n",
        "\n",
        "        outputs = model(_x)\n",
        "        loss = loss_fn(outputs, _y)\n",
        "\n",
        "        loss.backward()\n",
        "\n",
        "        optimizer.step()\n"
      ],
      "metadata": {
        "id": "NLc7xdaEEE1K"
      },
      "execution_count": 25,
      "outputs": []
    },
    {
      "cell_type": "code",
      "source": [
        "model.state_dict()"
      ],
      "metadata": {
        "colab": {
          "base_uri": "https://localhost:8080/"
        },
        "id": "txnQhBcKrv09",
        "outputId": "ea016b56-cbf8-4f02-bda1-ca1d3dd642f3"
      },
      "execution_count": null,
      "outputs": [
        {
          "output_type": "execute_result",
          "data": {
            "text/plain": [
              "OrderedDict([('model.weight', tensor([[3.4000]])),\n",
              "             ('model.bias', tensor([2.5000]))])"
            ]
          },
          "metadata": {},
          "execution_count": 10
        }
      ]
    },
    {
      "cell_type": "code",
      "source": [
        "_x.shape"
      ],
      "metadata": {
        "colab": {
          "base_uri": "https://localhost:8080/"
        },
        "id": "wo6g72yE-iOj",
        "outputId": "5845d46f-d76a-4a43-c543-3b6c05bf13c6"
      },
      "execution_count": 28,
      "outputs": [
        {
          "output_type": "execute_result",
          "data": {
            "text/plain": [
              "torch.Size([10, 1])"
            ]
          },
          "metadata": {},
          "execution_count": 28
        }
      ]
    },
    {
      "cell_type": "markdown",
      "source": [
        "## Model 1 - Feedforward neural network"
      ],
      "metadata": {
        "id": "L-9DJSJnNMUB"
      }
    },
    {
      "cell_type": "code",
      "source": [
        "class FeedforwardModel(nn.Module):\n",
        "    def __init__(self, input_dim, hidden_dim, output_dim):\n",
        "        super().__init__()\n",
        "        self.fc1 = nn.Linear(input_dim, hidden_dim)\n",
        "        self.relu = nn.ReLU()\n",
        "        self.fc2 = nn.Linear(hidden_dim, output_dim)\n",
        "\n",
        "\n",
        "    def forward(self, X):\n",
        "        out = self.fc1(X)\n",
        "        out = self.relu(out)\n",
        "        out = self.fc2(out)\n",
        "\n",
        "        return out"
      ],
      "metadata": {
        "id": "T0rO8o3D2_Ut"
      },
      "execution_count": 82,
      "outputs": []
    },
    {
      "cell_type": "markdown",
      "source": [
        "### example problem - XOR problem\n",
        "\n",
        "Input - list of tuple of 1 or 0\n",
        "Output - if it's exactly 1, it will return 1\n",
        "\n",
        "$$A \\oplus B = (A \\land \\lnot B) \\lor (\\lnot A \\land B) $$"
      ],
      "metadata": {
        "id": "8W8YSgih6K9A"
      }
    },
    {
      "cell_type": "code",
      "source": [
        "X = torch.tensor([\n",
        "    (0,0),\n",
        "    (1,0),\n",
        "    (1,1),\n",
        "    (0,1)\n",
        "], dtype=torch.float32)\n",
        "\n",
        "y = torch.tensor([\n",
        "    0, 1, 0, 1\n",
        "], dtype=torch.float32)\n",
        "y = y.reshape(len(y), 1)"
      ],
      "metadata": {
        "id": "WU8yjEl450O7"
      },
      "execution_count": 83,
      "outputs": []
    },
    {
      "cell_type": "code",
      "source": [
        "model = FeedforwardModel(input_dim = 2, hidden_dim = 2, output_dim = 1)"
      ],
      "metadata": {
        "id": "JNi26poU81LH"
      },
      "execution_count": 84,
      "outputs": []
    },
    {
      "cell_type": "code",
      "source": [
        "# example of using mse loss\n",
        "\n",
        "loss_fn = nn.MSELoss()\n",
        "optimizer = torch.optim.SGD(model.parameters(), lr=0.1)"
      ],
      "metadata": {
        "id": "vdy5iQGa7Bwt"
      },
      "execution_count": 85,
      "outputs": []
    },
    {
      "cell_type": "code",
      "source": [
        "n_epochs = 1000\n",
        "\n",
        "for epoch in range(n_epochs):\n",
        "\n",
        "    y_pred = model(X)\n",
        "    loss = loss_fn(y_pred, y)\n",
        "\n",
        "    optimizer.zero_grad()\n",
        "\n",
        "    loss.backward()\n",
        "\n",
        "    optimizer.step()"
      ],
      "metadata": {
        "id": "9haEDttg7CPu"
      },
      "execution_count": 86,
      "outputs": []
    },
    {
      "cell_type": "code",
      "source": [
        "model.state_dict()"
      ],
      "metadata": {
        "colab": {
          "base_uri": "https://localhost:8080/"
        },
        "id": "XjkU_YtO-AjA",
        "outputId": "b2adc887-3019-4a59-9d3f-4a004dd6f55d"
      },
      "execution_count": 87,
      "outputs": [
        {
          "output_type": "execute_result",
          "data": {
            "text/plain": [
              "OrderedDict([('fc1.weight',\n",
              "              tensor([[ 0.8792, -0.8799],\n",
              "                      [-0.9175,  0.9181]])),\n",
              "             ('fc1.bias', tensor([ 8.7142e-02, -4.9837e-07])),\n",
              "             ('fc2.weight', tensor([[1.1374, 1.1971]])),\n",
              "             ('fc2.bias', tensor([-0.0991]))])"
            ]
          },
          "metadata": {},
          "execution_count": 87
        }
      ]
    },
    {
      "cell_type": "code",
      "source": [
        "(y_pred > 0.5).float()"
      ],
      "metadata": {
        "colab": {
          "base_uri": "https://localhost:8080/"
        },
        "id": "49aW7hkb-C6Y",
        "outputId": "e3ac03a5-3a51-4bbd-c00f-109e3924bb45"
      },
      "execution_count": 88,
      "outputs": [
        {
          "output_type": "execute_result",
          "data": {
            "text/plain": [
              "tensor([[0.],\n",
              "        [1.],\n",
              "        [0.],\n",
              "        [1.]])"
            ]
          },
          "metadata": {},
          "execution_count": 88
        }
      ]
    },
    {
      "cell_type": "code",
      "source": [],
      "metadata": {
        "id": "c9PUiQHy_MB4"
      },
      "execution_count": 71,
      "outputs": []
    },
    {
      "cell_type": "code",
      "source": [],
      "metadata": {
        "id": "9tesZ2jFBt44"
      },
      "execution_count": null,
      "outputs": []
    }
  ]
}