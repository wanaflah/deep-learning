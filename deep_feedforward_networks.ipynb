{
  "nbformat": 4,
  "nbformat_minor": 0,
  "metadata": {
    "colab": {
      "provenance": [],
      "authorship_tag": "ABX9TyNzzyROnWcDUtd/ChEIknX5"
    },
    "kernelspec": {
      "name": "python3",
      "display_name": "Python 3"
    },
    "language_info": {
      "name": "python"
    }
  },
  "cells": [
    {
      "cell_type": "code",
      "execution_count": 2,
      "metadata": {
        "id": "uGEoteVt66R_"
      },
      "outputs": [],
      "source": [
        "# importing the packages necesary\n",
        "\n",
        "import torch\n",
        "from torch import nn\n",
        "import pandas as pd\n",
        "import numpy as np"
      ]
    },
    {
      "cell_type": "markdown",
      "source": [
        "## Model 0 - Prelims, using torch to build linear regression model\n",
        "\n"
      ],
      "metadata": {
        "id": "IiA-TKW2LMVK"
      }
    },
    {
      "cell_type": "code",
      "source": [
        "# building the model using torch\n",
        "\n",
        "class LinearRegressionModel(nn.Module):\n",
        "    def __init__(self, input_dim, output_dim):\n",
        "        super().__init__()\n",
        "        # linear function\n",
        "        self.model = nn.Linear(input_dim, output_dim)\n",
        "\n",
        "\n",
        "    def forward(self, X):\n",
        "        out = self.model(X)\n",
        "        return out"
      ],
      "metadata": {
        "id": "V_367tD47ytx"
      },
      "execution_count": 3,
      "outputs": []
    },
    {
      "cell_type": "code",
      "source": [
        "model = LinearRegressionModel(input_dim = 1,  output_dim = 1)"
      ],
      "metadata": {
        "id": "9odQXOCK-i8j"
      },
      "execution_count": 5,
      "outputs": []
    },
    {
      "cell_type": "code",
      "source": [
        "# setting the parameters\n",
        "loss_fn = nn.MSELoss()\n",
        "optimizer = torch.optim.SGD(model.parameters(), lr=0.1)"
      ],
      "metadata": {
        "id": "NSKwy0pODc-H"
      },
      "execution_count": 6,
      "outputs": []
    },
    {
      "cell_type": "markdown",
      "source": [
        "## example of a formula it's trying to learn\n",
        "\n",
        "$$\n",
        "y = f(x;\\theta)\n",
        "$$\n",
        "\n",
        "where $f(.)$ is $3.4x_1 + 2.5$\n"
      ],
      "metadata": {
        "id": "Nmlucqxa-mRY"
      }
    },
    {
      "cell_type": "code",
      "source": [
        "x = torch.rand(1000,1)\n",
        "y = x * 3.4 + 2.5\n",
        "\n",
        "data = torch.cat((x,y), 1)"
      ],
      "metadata": {
        "id": "94M1ojDk-khx"
      },
      "execution_count": 7,
      "outputs": []
    },
    {
      "cell_type": "code",
      "source": [
        "# prepare the dataset\n",
        "\n",
        "batch_size = 10\n",
        "n_epochs = 100\n",
        "\n",
        "train_loader = torch.utils.data.DataLoader(dataset = data,\n",
        "                                           batch_size = 10,\n",
        "                                           shuffle = True)"
      ],
      "metadata": {
        "id": "OuptJtrZEhtq"
      },
      "execution_count": 8,
      "outputs": []
    },
    {
      "cell_type": "code",
      "source": [
        "for epochs in range(n_epochs):\n",
        "    for i, _data in enumerate(train_loader):\n",
        "\n",
        "        _x = _data.T[0].reshape(-1, 1)\n",
        "        _y = _data.T[-1].reshape(-1, 1)\n",
        "\n",
        "        # zero the gradients\n",
        "        optimizer.zero_grad()\n",
        "\n",
        "        outputs = model(_x)\n",
        "        loss = loss_fn(outputs, _y)\n",
        "\n",
        "        loss.backward()\n",
        "\n",
        "        optimizer.step()\n"
      ],
      "metadata": {
        "id": "NLc7xdaEEE1K"
      },
      "execution_count": 9,
      "outputs": []
    },
    {
      "cell_type": "code",
      "source": [
        "model.state_dict()"
      ],
      "metadata": {
        "colab": {
          "base_uri": "https://localhost:8080/"
        },
        "id": "txnQhBcKrv09",
        "outputId": "ea016b56-cbf8-4f02-bda1-ca1d3dd642f3"
      },
      "execution_count": 10,
      "outputs": [
        {
          "output_type": "execute_result",
          "data": {
            "text/plain": [
              "OrderedDict([('model.weight', tensor([[3.4000]])),\n",
              "             ('model.bias', tensor([2.5000]))])"
            ]
          },
          "metadata": {},
          "execution_count": 10
        }
      ]
    }
  ]
}